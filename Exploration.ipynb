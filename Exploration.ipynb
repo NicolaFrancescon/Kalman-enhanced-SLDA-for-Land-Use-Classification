{
 "cells": [
  {
   "cell_type": "markdown",
   "metadata": {},
   "source": [
    "## Import libraries"
   ]
  },
  {
   "cell_type": "code",
   "execution_count": null,
   "metadata": {},
   "outputs": [],
   "source": [
    "import matplotlib.pyplot as plt\n",
    "import numpy as np\n",
    "from wild_time_data import available_time_steps\n",
    "from wild_time_data import load_dataset, num_outputs\n",
    "import random\n",
    "random.seed(21100)"
   ]
  },
  {
   "cell_type": "code",
   "execution_count": null,
   "metadata": {},
   "outputs": [],
   "source": [
    "list_labels = ('airport', 'airport hangar', 'airport terminal', 'amusement park', 'aquaculture', 'archaeological site', 'barn', \n",
    "                   'border checkpoint', 'burial site', 'car dealership', 'construction site', 'crop field', 'dam', 'debris/rubble', \n",
    "                   'educational institution', 'electric substation', 'factory/powerplant', 'fire station', 'flooded road', 'fountain', \n",
    "                   'gas station', 'golf course', 'ground transportation station', 'helipad', 'hospital', 'impoverished settlement', \n",
    "                   'interchange', 'lake/pond', 'lighthouse', 'military facility', 'multi-unit residential', 'nuclear powerplant', \n",
    "                   'office building', 'oil/gas facility', 'park', 'parking lot/garage', 'place of worship', 'police station', 'port', \n",
    "                   'prison', 'race track', 'railway bridge', 'recreational facility', 'road bridge', 'runway', 'shipyard', 'shopping mall', \n",
    "                   'single-unit residential', 'smokestack', 'solar farm', 'space facility', 'stadium', 'storage tank', 'surface mine', \n",
    "                   'swimming pool', 'toll booth', 'tower', 'tunnel opening', 'waste disposal', 'water treatment facility', 'wind farm', 'zoo')\n",
    "labels = {}\n",
    "for i, name in enumerate(list_labels):\n",
    "    labels[i] = name"
   ]
  },
  {
   "cell_type": "markdown",
   "metadata": {},
   "source": [
    "## Work with fmow"
   ]
  },
  {
   "cell_type": "code",
   "execution_count": null,
   "metadata": {},
   "outputs": [],
   "source": [
    "print(available_time_steps(\"fmow\"))\n",
    "final_length = 0\n",
    "for i in range(6,16):\n",
    "    data=load_dataset(dataset_name=\"fmow\", split=\"train\", time_step=i, data_dir=r\"Dataset\", transform=lambda x :x)\n",
    "    print(data.size)\n",
    "    final_length += data.size\n",
    "print(final_length)\n",
    "for i in range(10):\n",
    "    print(data[i][1].item())\n",
    "print(data[0][0].shape)\n",
    "# images are of class numpy.ndarray with shape (224, 224, 3)"
   ]
  },
  {
   "cell_type": "code",
   "execution_count": null,
   "metadata": {},
   "outputs": [],
   "source": [
    "rand_img = random.randrange(data.size)\n",
    "\n",
    "img = data[rand_img][0]\n",
    "plt.imshow(img.astype('uint8'))\n",
    "plt.show()\n",
    "print(labels[data[rand_img][1].item()])"
   ]
  },
  {
   "cell_type": "code",
   "execution_count": null,
   "metadata": {},
   "outputs": [],
   "source": [
    "chosen_year = 2013\n",
    "data = load_dataset(dataset_name=\"fmow\", split=\"train\", time_step=chosen_year-2002, data_dir=r\"Dataset\", transform=lambda x :x)\n",
    "num_output = num_outputs('fmow')\n",
    "vec = [[] for _ in range(num_output)]\n",
    "lab = [[] for _ in range(num_output)]\n",
    "\n",
    "for i in range(num_output):\n",
    "    matrices_to_append = []\n",
    "    lab_to_append = []\n",
    "    for j in range(data.size):\n",
    "        if(data[j][1].item()==i):\n",
    "            matrices_to_append.append(data[j][0])\n",
    "            lab_to_append.append(data[j][1].item())\n",
    "    vec[i].append(matrices_to_append)\n",
    "    lab[i].append(lab_to_append)\n",
    "# We divide images by their label in a chosen year (can be done on whole dataset)\n",
    "print(data.size)"
   ]
  },
  {
   "cell_type": "code",
   "execution_count": null,
   "metadata": {},
   "outputs": [],
   "source": [
    "for k in range(num_output):\n",
    "    if(len(lab[k][0])>0):\n",
    "        img = vec[k][0][0]\n",
    "        plt.imshow(img.astype('uint8'))\n",
    "        plt.show()\n",
    "        print(labels[lab[k][0][0]])\n",
    "\n",
    "# Plot one image per each label"
   ]
  },
  {
   "cell_type": "code",
   "execution_count": null,
   "metadata": {},
   "outputs": [],
   "source": [
    "label = 10\n",
    "if(len(lab[label][0])>0):\n",
    "        index = len(lab[label][0])\n",
    "        for k in range(index):\n",
    "            img = vec[label][0][k]\n",
    "            plt.imshow(img.astype('uint8'))\n",
    "            plt.show()\n",
    "            print(labels[lab[label][0][k]])\n",
    "\n",
    "# Plot all images for a given label"
   ]
  },
  {
   "cell_type": "markdown",
   "metadata": {},
   "source": [
    "Processing images"
   ]
  },
  {
   "cell_type": "code",
   "execution_count": null,
   "metadata": {},
   "outputs": [],
   "source": [
    "data = []\n",
    "size = []\n",
    "for i in available_time_steps(\"fmow\"):\n",
    "    data.append(load_dataset(dataset_name=\"fmow\", split=\"train\", time_step=i, data_dir=r\"Dataset\", transform=lambda x :x))\n",
    "    size.append(data[i].size)\n",
    "    #data[i] + load_dataset(dataset_name=\"fmow\", split=\"test\", time_step=i, data_dir=r\"Feature Extraction\\Wild-Time-Data\\converter\", transform=lambda x :x)\n",
    "print(size)"
   ]
  },
  {
   "cell_type": "code",
   "execution_count": null,
   "metadata": {},
   "outputs": [],
   "source": [
    "from matplotlib.patches import Patch\n",
    "# Define the number of bars\n",
    "num_bars = len(size)\n",
    "years = range(2002, 2002+num_bars)\n",
    "\n",
    "# Create a color list based on the condition\n",
    "colors = ['darkorange'] * 6 + ['lightblue'] * (num_bars - 6)\n",
    "\n",
    "\n",
    "plt.figure(figsize=(13, 6))\n",
    "# Create the histogram\n",
    "plt.bar(x=years, height=size, color=colors)\n",
    "\n",
    "# Add labels and title\n",
    "plt.xlabel('Year', fontsize=16)\n",
    "plt.ylabel('Number of samples', fontsize=16)\n",
    "plt.title('Labeled images per year', fontsize=18)\n",
    "\n",
    "handles = [Patch(color='darkorange', label='Initialization Samples'),\n",
    "           Patch(color='lightblue', label='Training Samples')]\n",
    "\n",
    "# Add legend\n",
    "plt.legend(handles=handles, loc='upper right', framealpha=1, fontsize=13)\n",
    "\n",
    "# Show the plot\n",
    "plt.yticks(fontsize=14)\n",
    "plt.xticks(years, fontsize=14)  # Set x-ticks to be the range of bars\n",
    "\n",
    "filepath = f'figures/Initial data/data_distribution.eps'\n",
    "plt.savefig(filepath, format='eps', dpi=1200)"
   ]
  },
  {
   "cell_type": "code",
   "execution_count": null,
   "metadata": {},
   "outputs": [],
   "source": [
    "from collections import defaultdict\n",
    "\n",
    "# Step 1: Find all unique labels in the dataset across all years\n",
    "all_labels = set()\n",
    "for year_data in data:\n",
    "    for sample in year_data:\n",
    "        all_labels.add(sample[1].item())  # Collecting the label\n",
    "\n",
    "all_labels = sorted(all_labels)  # Sort labels alphabetically (or numerically if applicable)\n",
    "\n",
    "# Step 2: Create the list of lists (data) to hold the count of samples per label per year\n",
    "label_counts_per_year = []\n",
    "\n",
    "for year_data in data:\n",
    "    # Initialize a dictionary to count samples per label for this year\n",
    "    label_count = defaultdict(int)\n",
    "    \n",
    "    # Count occurrences of each label in this year\n",
    "    for sample in year_data:\n",
    "        label = sample[1].item()\n",
    "        label_count[label] += 1\n",
    "    \n",
    "    # Create a list for this year where each entry is the count of a label in `all_labels`\n",
    "    counts_for_this_year = [label_count[label] for label in all_labels]\n",
    "    label_counts_per_year.append(counts_for_this_year)\n",
    "\n",
    "# Step 3: Transpose the result to have labels as rows and years as columns\n",
    "data = np.array(label_counts_per_year).T  # Transpose the list"
   ]
  },
  {
   "cell_type": "code",
   "execution_count": null,
   "metadata": {},
   "outputs": [],
   "source": [
    "years = range(2002, 2018)  # List of years\n",
    "labels = {}\n",
    "for i, name in enumerate(list_labels):\n",
    "    labels[i] = name\n",
    "\n",
    "# Convert the data into a NumPy array for easy manipulation\n",
    "data = np.array(data)\n",
    "\n",
    "size = np.array(size)\n",
    "\n",
    "proportions = data / size\n",
    "\n",
    "# Number of categories (labels)\n",
    "num_labels = len(labels)\n",
    "\n",
    "# Create an array of indices for the x-axis (one for each category)\n",
    "x = np.arange(num_labels)\n",
    "\n",
    "# Colors for each year\n",
    "colors = plt.colormaps['tab20b'].colors[:len(years)]  # Get distinct colors for years\n",
    "\n",
    "# Initialize a figure\n",
    "fig, ax = plt.subplots(figsize=(15, 9))\n",
    "\n",
    "# Plot each year's data as a stacked bar\n",
    "for i in range(len(years)):\n",
    "    if i == 0:\n",
    "        # Plot the base of the bar (first year)\n",
    "        ax.bar(x, proportions[:, i], color=colors[i], label=str(years[i]))\n",
    "    else:\n",
    "        # Add subsequent years on top\n",
    "        ax.bar(x, proportions[:, i], bottom=np.sum(proportions[:, :i], axis=1), color=colors[i], label=str(years[i]))\n",
    "\n",
    "# Set x-ticks to show the category labels\n",
    "ax.set_xticks(x)\n",
    "ax.set_xticklabels(labels.values(), rotation=90, fontsize=14)\n",
    "ax.set_yticklabels(ax.get_yticklabels(), fontsize=14)\n",
    "# Add labels and title\n",
    "ax.set_xlabel('Labels', fontsize=16)\n",
    "ax.set_ylabel('Proportion of Samples', fontsize=16)\n",
    "ax.set_title('Proportion of Samples per Label Divided by Year', fontsize=18)\n",
    "\n",
    "ax.legend(title='Year', bbox_to_anchor=(1.05, 1), loc='upper left', fontsize=13, title_fontsize=14)  # Place the legend outside the plot\n",
    "\n",
    "plt.tight_layout()\n",
    "\n",
    "filepath = f'figures/Initial data/proportion_labels.eps'\n",
    "plt.savefig(filepath, format='eps', dpi=1200)"
   ]
  },
  {
   "cell_type": "code",
   "execution_count": null,
   "metadata": {},
   "outputs": [],
   "source": [
    "years = range(2002, 2018)  # List of years\n",
    "labels = {}\n",
    "for i, name in enumerate(list_labels):\n",
    "    labels[i] = name\n",
    "\n",
    "# Convert the data into a NumPy array for easy manipulation\n",
    "data = np.array(data)\n",
    "\n",
    "# Number of categories (labels)\n",
    "num_labels = len(labels)\n",
    "\n",
    "# Create an array of indices for the x-axis (one for each category)\n",
    "x = np.arange(num_labels)\n",
    "\n",
    "# Colors for each year\n",
    "colors = plt.colormaps['tab20b'].colors[:len(years)]  # Get distinct colors for years\n",
    "\n",
    "# Initialize a figure\n",
    "fig, ax = plt.subplots(figsize=(15, 9))\n",
    "\n",
    "# Plot each year's data as a stacked bar\n",
    "for i in range(len(years)):\n",
    "    if i == 0:\n",
    "        # Plot the base of the bar (first year)\n",
    "        ax.bar(x, data[:, i], color=colors[i], label=str(years[i]))\n",
    "    else:\n",
    "        # Add subsequent years on top\n",
    "        ax.bar(x, data[:, i], bottom=np.sum(data[:, :i], axis=1), color=colors[i], label=str(years[i]))\n",
    "\n",
    "# Set x-ticks to show the category labels\n",
    "ax.set_xticks(x)\n",
    "ax.set_xticklabels(labels.values(), rotation=90, fontsize=14)\n",
    "ax.set_yticklabels(ax.get_yticklabels(), fontsize=14)\n",
    "# Add labels and title\n",
    "ax.set_xlabel('Labels', fontsize=16)\n",
    "ax.set_ylabel('Number of Samples', fontsize=16)\n",
    "ax.set_title('Number of Samples per Label Divided by Year', fontsize=18)\n",
    "\n",
    "ax.legend(title='Year', bbox_to_anchor=(1.05, 1), loc='upper left', fontsize=13, title_fontsize=14)  # Place the legend outside the plot\n",
    "\n",
    "plt.tight_layout()\n",
    "\n",
    "filepath = f'figures/Initial data/absolute_value_labels.eps'\n",
    "plt.savefig(filepath, format='eps', dpi=1200)"
   ]
  },
  {
   "cell_type": "code",
   "execution_count": null,
   "metadata": {},
   "outputs": [],
   "source": [
    "np.sum(data, axis=1)"
   ]
  }
 ],
 "metadata": {
  "kernelspec": {
   "display_name": "tesi",
   "language": "python",
   "name": "python3"
  },
  "language_info": {
   "codemirror_mode": {
    "name": "ipython",
    "version": 3
   },
   "file_extension": ".py",
   "mimetype": "text/x-python",
   "name": "python",
   "nbconvert_exporter": "python",
   "pygments_lexer": "ipython3",
   "version": "3.12.2"
  }
 },
 "nbformat": 4,
 "nbformat_minor": 2
}

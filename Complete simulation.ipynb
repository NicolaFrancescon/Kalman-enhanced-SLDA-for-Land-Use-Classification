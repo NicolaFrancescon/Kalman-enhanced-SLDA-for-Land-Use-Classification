{
 "cells": [
  {
   "cell_type": "code",
   "execution_count": null,
   "id": "20400d54-6367-4dd0-8125-d8b502df123c",
   "metadata": {},
   "outputs": [],
   "source": [
    "from Feature_extraction import feat_extract\n",
    "from river.preprocessing import MinMaxScaler\n",
    "from Running_models import run_model"
   ]
  },
  {
   "cell_type": "code",
   "execution_count": null,
   "id": "53e5c085-1cc7-485b-af5a-fb15bc5095cb",
   "metadata": {
    "tags": []
   },
   "outputs": [],
   "source": [
    "feat_extract(folder_name= f'features/initial_features/mobilenet_small', extractor='mobilenet_small')"
   ]
  },
  {
   "cell_type": "code",
   "execution_count": null,
   "id": "83031911-6db6-49c6-a4bd-58be52a2481d",
   "metadata": {
    "tags": []
   },
   "outputs": [],
   "source": [
    "feat_extract(folder_name= f'features/initial_features/resnet18', extractor='resnet18')"
   ]
  },
  {
   "cell_type": "code",
   "execution_count": null,
   "id": "c6b6de12-9d4b-4823-818c-1dd578b5ed8e",
   "metadata": {
    "tags": []
   },
   "outputs": [],
   "source": [
    "run_model(feature_extractor = 'mobilenet_small', classification_method ='Gaussian NB', scaler = MinMaxScaler())\n",
    "run_model(feature_extractor = 'mobilenet_small', classification_method ='Softmax regression', scaler = MinMaxScaler())\n",
    "run_model(feature_extractor = 'mobilenet_small', classification_method ='SLDA', scaler = MinMaxScaler())\n",
    "run_model(feature_extractor = 'mobilenet_small', classification_method ='SLDA with Kalman', scaler = MinMaxScaler())"
   ]
  },
  {
   "cell_type": "code",
   "execution_count": null,
   "id": "c4ad3d23-10df-4ad6-848f-397e4e6229a8",
   "metadata": {
    "tags": []
   },
   "outputs": [],
   "source": [
    "run_model(feature_extractor = 'resnet18', classification_method ='Gaussian NB', scaler = MinMaxScaler())\n",
    "run_model(feature_extractor = 'resnet18', classification_method ='Softmax regression', scaler = MinMaxScaler())\n",
    "run_model(feature_extractor = 'resnet18', classification_method ='SLDA', scaler = MinMaxScaler())\n",
    "run_model(feature_extractor = 'resnet18', classification_method ='SLDA with Kalman', scaler = MinMaxScaler())"
   ]
  }
 ],
 "metadata": {
  "kernelspec": {
   "display_name": "tesi",
   "language": "python",
   "name": "python3"
  },
  "language_info": {
   "codemirror_mode": {
    "name": "ipython",
    "version": 3
   },
   "file_extension": ".py",
   "mimetype": "text/x-python",
   "name": "python",
   "nbconvert_exporter": "python",
   "pygments_lexer": "ipython3",
   "version": "3.12.2"
  }
 },
 "nbformat": 4,
 "nbformat_minor": 5
}
